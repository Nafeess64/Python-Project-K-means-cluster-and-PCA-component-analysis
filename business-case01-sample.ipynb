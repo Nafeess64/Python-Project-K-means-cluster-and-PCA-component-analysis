{
 "cells": [
  {
   "cell_type": "markdown",
   "metadata": {},
   "source": [
    "# Customer segmentation (clustering)\n",
    "## Bank client data\n",
    "### This notebook uses the *bank-additional-full_miss.csv* dataset\n",
    "\n",
    "This notebook is an example. It does not show an exhaustive detail on all CRISP-DM phases.\n",
    "\n",
    "(c) Nuno António 2020-2022 - Rev. 2.03"
   ]
  },
  {
   "cell_type": "markdown",
   "metadata": {},
   "source": [
    "### Dataset description\n",
    "\n",
    "Dataset related with direct marketing campaigns of a Portuguese banking institution. The marketing campaigns were based on phone calls. Often, more than one contact to the same client was required, in order to assess if the product (bank term deposit) would be subscribed.\n",
    "\n",
    "#### bank client data:\n",
    "- **age**: numeric - age of the customer\n",
    "- **job**: type of job (categorical: 'admin.','blue-collar','entrepreneur','housemaid','management','retired','self-employed','services','student','technician','unemployed','unknown')\n",
    "- **marital**: marital status (categorical: 'divorced','married','single','unknown'; note: 'divorced' means divorced or widowed)\n",
    "- **education**: (categorical: 'basic.4y','basic.6y','basic.9y','high.school','illiterate','professional.course','university.degree','unknown')\n",
    "- **default**: has credit in default? (categorical: 'no','yes','unknown')\n",
    "- **housing**: has housing loan? (categorical: 'no','yes','unknown')\n",
    "- **loan**: has personal loan? (categorical: 'no','yes','unknown')\n",
    "\n",
    "#### related with the last contact of the current campaign:\n",
    "- **contact**: contact communication type (categorical: 'cellular','telephone') \n",
    "- **month**: last contact month of year (categorical: 'jan', 'feb', 'mar', ..., 'nov', 'dec')\n",
    "- **day_of_week**: last contact day of the week (categorical: 'mon','tue','wed','thu','fri')\n",
    "- **duration**: last contact duration, in seconds (numeric). Important note: this attribute highly affects the output target (e.g., if duration=0 then y='no'). Yet, the duration is not known before a call is performed. Also, after the end of the call y is obviously known. Thus, this input should only be included for benchmark purposes and should be discarded if the intention is to have a realistic predictive model.\n",
    "\n",
    "#### other attributes:\n",
    "- **campaign**: number of contacts performed during this campaign and for this client (numeric, includes last contact)\n",
    "- **pdays**: number of days that passed by after the client was last contacted from a previous campaign (numeric; 999 means client was not previously contacted)\n",
    "- **previous**: number of contacts performed before this campaign and for this client (numeric)\n",
    "- **poutcome**: outcome of the previous marketing campaign (categorical: 'failure','nonexistent','success')\n",
    "\n",
    "#### social and economic context attributes\n",
    "- **emp.var.rate**: employment variation rate - quarterly indicator (numeric)\n",
    "- **cons.price.idx**: consumer price index - monthly indicator (numeric) \n",
    "- **cons.conf.idx**: consumer confidence index - monthly indicator (numeric) \n",
    "- **euribor3m**: euribor 3 month rate - daily indicator (numeric)\n",
    "- **nr.employed**: number of employees - quarterly indicator (numeric)\n",
    "\n",
    "#### subscrition info\n",
    "- **y**: has the client subscribed a term deposit? (binary: 'yes','no')\n",
    "\n",
    "\n",
    "\n",
    "More information on the dataset available at https://archive.ics.uci.edu/ml/datasets/Bank+Marketing"
   ]
  },
  {
   "cell_type": "markdown",
   "metadata": {},
   "source": [
    "## Initial setup and modules/packages loading"
   ]
  },
  {
   "cell_type": "code",
   "execution_count": 1,
   "metadata": {
    "execution": {
     "iopub.execute_input": "2024-03-08T16:26:01.996807Z",
     "iopub.status.busy": "2024-03-08T16:26:01.996353Z",
     "iopub.status.idle": "2024-03-08T16:26:03.452448Z",
     "shell.execute_reply": "2024-03-08T16:26:03.451064Z",
     "shell.execute_reply.started": "2024-03-08T16:26:01.996771Z"
    }
   },
   "outputs": [
    {
     "ename": "ModuleNotFoundError",
     "evalue": "No module named 'category_encoders'",
     "output_type": "error",
     "traceback": [
      "\u001b[1;31m---------------------------------------------------------------------------\u001b[0m",
      "\u001b[1;31mModuleNotFoundError\u001b[0m                       Traceback (most recent call last)",
      "Cell \u001b[1;32mIn[1], line 9\u001b[0m\n\u001b[0;32m      7\u001b[0m \u001b[38;5;28;01mimport\u001b[39;00m \u001b[38;5;21;01mseaborn\u001b[39;00m \u001b[38;5;28;01mas\u001b[39;00m \u001b[38;5;21;01msns\u001b[39;00m\n\u001b[0;32m      8\u001b[0m \u001b[38;5;66;03m# import joypy\u001b[39;00m\n\u001b[1;32m----> 9\u001b[0m \u001b[38;5;28;01mimport\u001b[39;00m \u001b[38;5;21;01mcategory_encoders\u001b[39;00m \u001b[38;5;28;01mas\u001b[39;00m \u001b[38;5;21;01mce\u001b[39;00m\n\u001b[0;32m     10\u001b[0m \u001b[38;5;28;01mimport\u001b[39;00m \u001b[38;5;21;01mcollections\u001b[39;00m\n\u001b[0;32m     11\u001b[0m \u001b[38;5;28;01mfrom\u001b[39;00m \u001b[38;5;21;01msklearn\u001b[39;00m\u001b[38;5;21;01m.\u001b[39;00m\u001b[38;5;21;01mimpute\u001b[39;00m \u001b[38;5;28;01mimport\u001b[39;00m SimpleImputer\n",
      "\u001b[1;31mModuleNotFoundError\u001b[0m: No module named 'category_encoders'"
     ]
    }
   ],
   "source": [
    "# Packages\n",
    "import os\n",
    "import numpy as np\n",
    "import pandas as pd\n",
    "import matplotlib.pyplot as plt\n",
    "from matplotlib import ticker\n",
    "import seaborn as sns\n",
    "# import joypy\n",
    "import category_encoders as ce\n",
    "import collections\n",
    "from sklearn.impute import SimpleImputer\n",
    "from sklearn import preprocessing\n",
    "from sklearn.cluster import KMeans\n",
    "from sklearn.decomposition import PCA\n",
    "from sklearn.metrics import silhouette_score\n",
    "from yellowbrick.cluster import KElbowVisualizer\n",
    "from yellowbrick.cluster import SilhouetteVisualizer\n",
    "from yellowbrick.cluster import InterclusterDistance"
   ]
  },
  {
   "cell_type": "code",
   "execution_count": null,
   "metadata": {},
   "outputs": [],
   "source": [
    "!"
   ]
  },
  {
   "cell_type": "code",
   "execution_count": null,
   "metadata": {
    "execution": {
     "iopub.execute_input": "2024-03-08T16:26:06.927223Z",
     "iopub.status.busy": "2024-03-08T16:26:06.926622Z",
     "iopub.status.idle": "2024-03-08T16:26:06.932839Z",
     "shell.execute_reply": "2024-03-08T16:26:06.931640Z",
     "shell.execute_reply.started": "2024-03-08T16:26:06.927187Z"
    }
   },
   "outputs": [],
   "source": [
    "# Global definitions\n",
    "baseFolder = os.getcwd()\n",
    "exportsFolder = baseFolder + os.sep +'Exports' + os.sep"
   ]
  },
  {
   "cell_type": "code",
   "execution_count": null,
   "metadata": {
    "execution": {
     "iopub.execute_input": "2024-03-08T16:26:09.757290Z",
     "iopub.status.busy": "2024-03-08T16:26:09.756865Z",
     "iopub.status.idle": "2024-03-08T16:26:09.763906Z",
     "shell.execute_reply": "2024-03-08T16:26:09.762539Z",
     "shell.execute_reply.started": "2024-03-08T16:26:09.757256Z"
    }
   },
   "outputs": [],
   "source": [
    "subPlots_Title_fontSize = 12\n",
    "subPlots_xAxis_fontSize = 10\n",
    "subPlots_yAxis_fontSize = 10\n",
    "subPlots_label_fontSize = 10\n",
    "heatmaps_text_fontSize = 8\n",
    "\n",
    "plots_Title_fontSize = 14\n",
    "plots_Title_textColour = 'black'\n",
    "\n",
    "plots_Legend_fontSize = 12\n",
    "plots_Legend_textColour = 'black'\n",
    "\n",
    "plots_barTexts_fontSize = 8"
   ]
  },
  {
   "cell_type": "markdown",
   "metadata": {},
   "source": [
    "## Data understanding"
   ]
  },
  {
   "cell_type": "code",
   "execution_count": null,
   "metadata": {
    "execution": {
     "iopub.execute_input": "2024-03-08T16:26:13.235678Z",
     "iopub.status.busy": "2024-03-08T16:26:13.235243Z",
     "iopub.status.idle": "2024-03-08T16:26:14.477037Z",
     "shell.execute_reply": "2024-03-08T16:26:14.475889Z",
     "shell.execute_reply.started": "2024-03-08T16:26:13.235643Z"
    }
   },
   "outputs": [],
   "source": [
    "# Load data \n",
    "ds = pd.read_csv('/kaggle/input/wali-3/Case1_HotelCustomerSegmentation.csv', sep=\";\")\n",
    "ds.info()"
   ]
  },
  {
   "cell_type": "code",
   "execution_count": null,
   "metadata": {
    "execution": {
     "iopub.execute_input": "2024-03-08T16:26:20.594765Z",
     "iopub.status.busy": "2024-03-08T16:26:20.594326Z",
     "iopub.status.idle": "2024-03-08T16:26:20.631824Z",
     "shell.execute_reply": "2024-03-08T16:26:20.630564Z",
     "shell.execute_reply.started": "2024-03-08T16:26:20.594729Z"
    }
   },
   "outputs": [],
   "source": [
    "# Display top 5 rows\n",
    "ds.head(5)"
   ]
  },
  {
   "cell_type": "code",
   "execution_count": null,
   "metadata": {
    "execution": {
     "iopub.execute_input": "2024-03-08T16:26:30.982716Z",
     "iopub.status.busy": "2024-03-08T16:26:30.982271Z",
     "iopub.status.idle": "2024-03-08T16:26:31.546721Z",
     "shell.execute_reply": "2024-03-08T16:26:31.545527Z",
     "shell.execute_reply.started": "2024-03-08T16:26:30.982681Z"
    }
   },
   "outputs": [],
   "source": [
    "# Summary statistics for all variables\n",
    "ds.describe(include='all').T"
   ]
  },
  {
   "cell_type": "code",
   "execution_count": null,
   "metadata": {
    "execution": {
     "iopub.execute_input": "2024-03-08T16:26:38.614548Z",
     "iopub.status.busy": "2024-03-08T16:26:38.613920Z",
     "iopub.status.idle": "2024-03-08T16:26:40.278222Z",
     "shell.execute_reply": "2024-03-08T16:26:40.276590Z",
     "shell.execute_reply.started": "2024-03-08T16:26:38.614494Z"
    }
   },
   "outputs": [],
   "source": [
    "# Check counts of categorical variables\n",
    "cols = ['default', 'housing', 'loan', 'poutcome' , 'y']\n",
    "ds[cols].apply(pd.Series.value_counts)"
   ]
  },
  {
   "cell_type": "code",
   "execution_count": null,
   "metadata": {
    "execution": {
     "iopub.execute_input": "2024-03-08T16:27:08.613889Z",
     "iopub.status.busy": "2024-03-08T16:27:08.613485Z",
     "iopub.status.idle": "2024-03-08T16:27:08.690176Z",
     "shell.execute_reply": "2024-03-08T16:27:08.688334Z",
     "shell.execute_reply.started": "2024-03-08T16:27:08.613858Z"
    },
    "tags": []
   },
   "outputs": [],
   "source": [
    "# Check missing values\n",
    "print(ds.isnull().sum())"
   ]
  },
  {
   "cell_type": "markdown",
   "metadata": {},
   "source": [
    "Summary statistics shows:\n",
    "- Duration and campaing present missing values. Other columns present no missing values (in the sense of having no empty columns). But, some binary columns wih yes and no categories, show that there are a third category, so missing values could be in that third category (e.g., **default**, **housing**, etc.).\n",
    "- **Job** has 12 categories. This can indicate issues in distribution, such as some categories win many observations and others with only a few observations. **Marital** and **Education** also have a high number of categories. "
   ]
  },
  {
   "cell_type": "code",
   "execution_count": null,
   "metadata": {
    "execution": {
     "iopub.execute_input": "2024-03-08T16:28:12.082456Z",
     "iopub.status.busy": "2024-03-08T16:28:12.081981Z",
     "iopub.status.idle": "2024-03-08T16:28:15.733180Z",
     "shell.execute_reply": "2024-03-08T16:28:15.731836Z",
     "shell.execute_reply.started": "2024-03-08T16:28:12.082420Z"
    }
   },
   "outputs": [],
   "source": [
    "# Exploration of categorical variables: cross table of job and education\n",
    "table1 = pd.crosstab(index=ds['Age'], columns=ds['DocIDHash'])\n",
    "table1"
   ]
  },
  {
   "cell_type": "code",
   "execution_count": null,
   "metadata": {
    "execution": {
     "iopub.execute_input": "2024-03-08T17:06:56.452878Z",
     "iopub.status.busy": "2024-03-08T17:06:56.451615Z",
     "iopub.status.idle": "2024-03-08T17:16:32.064702Z",
     "shell.execute_reply": "2024-03-08T17:16:32.061754Z",
     "shell.execute_reply.started": "2024-03-08T17:06:56.452841Z"
    }
   },
   "outputs": [],
   "source": [
    "# Visual exploration of the cross table\n",
    "\n",
    "# Draw\n",
    "fig, ax = plt.subplots(figsize=(8,5))\n",
    "ds.plot(kind=\"bar\", \n",
    "            ax=ax,\n",
    "            stacked=True)\n",
    "\n",
    "# Decoration\n",
    "fmt = \"{x:,.0f}\"\n",
    "tick = ticker.StrMethodFormatter(fmt)\n",
    "ax.yaxis.set_major_formatter(tick)\n",
    "sns.despine()\n",
    "plt.title(\"Job vs Education counts\", fontsize=plots_Title_fontSize)\n",
    "plt.xlabel(\"Age\")\n",
    "plt.ylabel(\"Frequency\")\n",
    "plt.rc('axes', labelsize=subPlots_label_fontSize)\n",
    "handles, labels = ax.get_legend_handles_labels()\n",
    "ax.legend(handles=handles, labels=labels, loc='lower center', \n",
    "          ncol=4, bbox_to_anchor=(0.45, -0.5), frameon=False)"
   ]
  },
  {
   "cell_type": "code",
   "execution_count": null,
   "metadata": {
    "execution": {
     "iopub.execute_input": "2024-03-08T17:06:11.929598Z",
     "iopub.status.busy": "2024-03-08T17:06:11.928423Z",
     "iopub.status.idle": "2024-03-08T17:06:12.844308Z",
     "shell.execute_reply": "2024-03-08T17:06:12.842923Z",
     "shell.execute_reply.started": "2024-03-08T17:06:11.929553Z"
    }
   },
   "outputs": [],
   "source": [
    "plt.figure(1 , figsize = (15 , 6))\n",
    "n = 0 \n",
    "for x in ['Age']:\n",
    "    n += 1\n",
    "    plt.subplot(1 , 3 , n)\n",
    "    plt.subplots_adjust(hspace = 0.5 , wspace = 0.5)\n",
    "    sns.distplot(ds[x] , bins = 15)\n",
    "    plt.title('Distplot of {}'.format(x))\n",
    "plt.show()"
   ]
  },
  {
   "cell_type": "code",
   "execution_count": null,
   "metadata": {
    "execution": {
     "iopub.status.busy": "2024-03-08T17:16:32.065555Z",
     "iopub.status.idle": "2024-03-08T17:16:32.065941Z",
     "shell.execute_reply": "2024-03-08T17:16:32.065767Z",
     "shell.execute_reply.started": "2024-03-08T17:16:32.065751Z"
    }
   },
   "outputs": [],
   "source": [
    "# HISTOGRAM (ALL NUMERIC VARIABLES)\n",
    "\n",
    "# Identify all numeric variables in the dataset\n",
    "numerical=ds.select_dtypes(include=[np.number]).columns.tolist()\n",
    "\n",
    "# Draw\n",
    "fig, ax = plt.subplots(2, 5, figsize=(18,6))\n",
    "for var, subplot in zip(ds[numerical], ax.flatten()):\n",
    "    g = sns.histplot(data=ds,\n",
    "                bins=20,\n",
    "                 x=var,\n",
    "                 ax=subplot,\n",
    "                 kde=False)\n",
    "\n",
    "# Decoration\n",
    "sns.despine()\n",
    "plt.rc('axes', labelsize=subPlots_label_fontSize)\n",
    "fig.suptitle(\"Histograms with 20 bins of all numeric variables\", fontsize=plots_Title_fontSize);"
   ]
  },
  {
   "cell_type": "code",
   "execution_count": null,
   "metadata": {
    "execution": {
     "iopub.status.busy": "2024-03-08T17:16:32.068052Z",
     "iopub.status.idle": "2024-03-08T17:16:32.068456Z",
     "shell.execute_reply": "2024-03-08T17:16:32.068276Z",
     "shell.execute_reply.started": "2024-03-08T17:16:32.068260Z"
    }
   },
   "outputs": [],
   "source": [
    "# BOXPLOT (ALL NUMERIC VARIABLES)\n",
    "\n",
    "# Draw\n",
    "fig, ax = plt.subplots(2, 5, figsize=(18,6))\n",
    "for var, subplot in zip(ds[numerical], ax.flatten()):\n",
    "    g = sns.boxplot(data=ds,\n",
    "                 x=var,\n",
    "                 ax=subplot)\n",
    "\n",
    "# Decoration\n",
    "sns.despine()\n",
    "plt.rc('axes', labelsize=subPlots_label_fontSize)\n",
    "fig.suptitle(\"Boxplots of all numeric variables\", fontsize=plots_Title_fontSize);"
   ]
  },
  {
   "cell_type": "code",
   "execution_count": null,
   "metadata": {
    "execution": {
     "iopub.status.busy": "2024-03-08T17:16:32.072324Z",
     "iopub.status.idle": "2024-03-08T17:16:32.073510Z",
     "shell.execute_reply": "2024-03-08T17:16:32.073219Z",
     "shell.execute_reply.started": "2024-03-08T17:16:32.073194Z"
    }
   },
   "outputs": [],
   "source": [
    "# CORRELATION \n",
    "\n",
    "# Create correlation matrix\n",
    "corr = ds[numerical].corr(method='spearman')\n",
    "mask = np.zeros_like(corr, dtype=np.bool)\n",
    "mask[np.triu_indices_from(mask)]= True\n",
    "\n",
    "# Draw\n",
    "fig , ax = plt.subplots(figsize=(8, 10))\n",
    "heatmap = sns.heatmap(corr,\n",
    "                      mask = mask,\n",
    "                      square = True,\n",
    "                      linewidths = .5,\n",
    "                      cmap = 'coolwarm',\n",
    "                      cbar_kws = {'shrink': .4,\n",
    "                                'ticks' : [-1, -.5, 0, 0.5, 1]},\n",
    "                      fmt='.4f',\n",
    "                      vmin = -1,\n",
    "                      vmax = 1,\n",
    "                      annot = True,\n",
    "                      annot_kws = {'size': heatmaps_text_fontSize})\n",
    "\n",
    "# Decoration\n",
    "plt.title(\"Spearman correlation between numeric variables\", fontsize=plots_Title_fontSize)\n",
    "ax.set_yticklabels(corr.columns, rotation = 0)\n",
    "ax.set_xticklabels(corr.columns, rotation = 45)\n",
    "sns.set_style({'xtick.bottom': True}, {'ytick.left': True})"
   ]
  },
  {
   "cell_type": "markdown",
   "metadata": {},
   "source": [
    "## Data preparation"
   ]
  },
  {
   "cell_type": "code",
   "execution_count": null,
   "metadata": {
    "execution": {
     "iopub.status.busy": "2024-03-08T17:16:32.074952Z",
     "iopub.status.idle": "2024-03-08T17:16:32.075521Z",
     "shell.execute_reply": "2024-03-08T17:16:32.075246Z",
     "shell.execute_reply.started": "2024-03-08T17:16:32.075222Z"
    }
   },
   "outputs": [],
   "source": [
    "# Create a modeling dataset from the original dataset\n",
    "X = ds.copy(deep=True)"
   ]
  },
  {
   "cell_type": "code",
   "execution_count": null,
   "metadata": {
    "execution": {
     "iopub.status.busy": "2024-03-08T17:16:32.077123Z",
     "iopub.status.idle": "2024-03-08T17:16:32.077660Z",
     "shell.execute_reply": "2024-03-08T17:16:32.077394Z",
     "shell.execute_reply.started": "2024-03-08T17:16:32.077371Z"
    }
   },
   "outputs": [],
   "source": [
    "# Treat the missing values in Duration and Campaign columns (just to illustrate as these columns will not be used in modelling)\n",
    "# For more information check https://scikit-learn.org/stable/modules/impute.html \n",
    "\n",
    "# Duration - imputation with the median\n",
    "imp = SimpleImputer(missing_values=np.nan, strategy='median')\n",
    "X['duration'] = imp.fit_transform(X['duration'].values.reshape(-1,1))[:,0]\n",
    "\n",
    "# Campaign - imputation with the most frequent\n",
    "imp = SimpleImputer(missing_values=np.nan, strategy='most_frequent')\n",
    "X['campaign'] = imp.fit_transform(X['campaign'].values.reshape(-1,1))[:,0]\n",
    "\n",
    "# Since the number of missing rows is so small we could have removed the rows using .dropna\n",
    "# For more information see https://pandas.pydata.org/docs/reference/api/pandas.DataFrame.dropna.html"
   ]
  },
  {
   "cell_type": "code",
   "execution_count": null,
   "metadata": {
    "execution": {
     "iopub.status.busy": "2024-03-08T17:16:32.079331Z",
     "iopub.status.idle": "2024-03-08T17:16:32.079753Z",
     "shell.execute_reply": "2024-03-08T17:16:32.079571Z",
     "shell.execute_reply.started": "2024-03-08T17:16:32.079554Z"
    }
   },
   "outputs": [],
   "source": [
    "# Bin the age\n",
    "X['age_bins'] = pd.cut(x=X['age'], bins=[0, 19, 29, 39, 49, 59, 99], labels=['<20','20-29','30-39','40-49','50-59','>=60'])\n",
    "\n",
    "# Drop the age column\n",
    "X.drop(columns='age', inplace=True)"
   ]
  },
  {
   "cell_type": "code",
   "execution_count": null,
   "metadata": {
    "execution": {
     "iopub.status.busy": "2024-03-08T17:16:32.080655Z",
     "iopub.status.idle": "2024-03-08T17:16:32.081007Z",
     "shell.execute_reply": "2024-03-08T17:16:32.080842Z",
     "shell.execute_reply.started": "2024-03-08T17:16:32.080828Z"
    }
   },
   "outputs": [],
   "source": [
    "# Remove columns that should not be used as they do not represent customer's characteristics or behavior\n",
    "cols = ['contact', 'month', 'day_of_week', 'duration', 'campaign', 'pdays', 'previous', 'emp.var.rate',\n",
    " 'cons.price.idx', 'cons.conf.idx', 'euribor3m', 'nr.employed']\n",
    "X.drop(columns=cols, inplace=True)"
   ]
  },
  {
   "cell_type": "code",
   "execution_count": null,
   "metadata": {
    "execution": {
     "iopub.status.busy": "2024-03-08T17:16:32.082169Z",
     "iopub.status.idle": "2024-03-08T17:16:32.082568Z",
     "shell.execute_reply": "2024-03-08T17:16:32.082360Z",
     "shell.execute_reply.started": "2024-03-08T17:16:32.082345Z"
    }
   },
   "outputs": [],
   "source": [
    "# K-Means requires all features to be numeric\n",
    "# Encode target to 0 (no) and 1 (yes)\n",
    "X['y'] = X['y'].map({'yes': 1, 'no': 0})"
   ]
  },
  {
   "cell_type": "code",
   "execution_count": null,
   "metadata": {
    "execution": {
     "iopub.status.busy": "2024-03-08T17:16:32.084187Z",
     "iopub.status.idle": "2024-03-08T17:16:32.084900Z",
     "shell.execute_reply": "2024-03-08T17:16:32.084609Z",
     "shell.execute_reply.started": "2024-03-08T17:16:32.084583Z"
    }
   },
   "outputs": [],
   "source": [
    "# Encode categorical variables to dummy variables\n",
    "# For more information the different methods to enconde categorical variables check https://contrib.scikit-learn.org/category_encoders/\n",
    "cols = ['default', 'housing', 'loan', 'poutcome', 'age_bins' ]\n",
    "ce_one_hot = ce.OneHotEncoder(cols = cols, use_cat_names=True)\n",
    "X = ce_one_hot.fit_transform(X)"
   ]
  },
  {
   "cell_type": "code",
   "execution_count": null,
   "metadata": {
    "execution": {
     "iopub.status.busy": "2024-03-08T17:16:32.086505Z",
     "iopub.status.idle": "2024-03-08T17:16:32.086909Z",
     "shell.execute_reply": "2024-03-08T17:16:32.086733Z",
     "shell.execute_reply.started": "2024-03-08T17:16:32.086717Z"
    }
   },
   "outputs": [],
   "source": [
    "def one_hot(s, threshold,prefix):\n",
    "    \"\"\"Do one-hot encoding for categories above a threshold and create a dummy column for all others named \"Other\"\n",
    "\n",
    "    Args:\n",
    "        s (series): series to apply the transformation\n",
    "        threshold (numerical): threshold above which a dummy column should be created (from 0 to 1, corresponding from 0 to 100%)\n",
    "        prefix (string): prefix to assign to the created columns\n",
    "\n",
    "    Returns:\n",
    "        dataframe: dataframe with the applied transformations \n",
    "    \"\"\"\n",
    "    # Check dummies for the column\n",
    "    d = pd.get_dummies(s)\n",
    "\n",
    "    # Check if percentage is below threshold and act accordingly\n",
    "    f = pd.value_counts(s, sort=False, normalize=True) < threshold\n",
    "    if f.sum() == 0:\n",
    "        newSeries=d\n",
    "    else:\n",
    "        newSeries=d.loc[:, ~f].join(d.loc[:, f].sum(1).rename('Other'))\n",
    "    # Add the prefix and return the result    \n",
    "    newSeries=newSeries.add_prefix(prefix)\n",
    "    return newSeries"
   ]
  },
  {
   "cell_type": "code",
   "execution_count": null,
   "metadata": {
    "execution": {
     "iopub.execute_input": "2024-03-08T17:22:31.511333Z",
     "iopub.status.busy": "2024-03-08T17:22:31.510822Z",
     "iopub.status.idle": "2024-03-08T17:22:34.407130Z",
     "shell.execute_reply": "2024-03-08T17:22:34.405841Z",
     "shell.execute_reply.started": "2024-03-08T17:22:31.511301Z"
    }
   },
   "outputs": [],
   "source": [
    "# HISTOGRAM (ALL NUMERIC VARIABLES)\n",
    "\n",
    "# Identify all numeric variables in the dataset\n",
    "numerical=ds.select_dtypes(include=[np.number]).columns.tolist()\n",
    "\n",
    "# Draw\n",
    "fig, ax = plt.subplots(2, 5, figsize=(18,6))\n",
    "for var, subplot in zip(ds[numerical], ax.flatten()):\n",
    "    g = sns.histplot(data=ds,\n",
    "                bins=20,\n",
    "                 x=var,\n",
    "                 ax=subplot,\n",
    "                 kde=False)\n",
    "\n",
    "# Decoration\n",
    "sns.despine()\n",
    "plt.rc('axes', labelsize=subPlots_label_fontSize)\n",
    "fig.suptitle(\"Histograms with 20 bins of all numeric variables\", fontsize=plots_Title_fontSize);\n",
    "\n",
    "# Save to file\n",
    "#fig.savefig(fname=exportsFolder+'MultipleHistogram.svg', bbox_inches=\"tight\")\n"
   ]
  },
  {
   "cell_type": "code",
   "execution_count": null,
   "metadata": {
    "execution": {
     "iopub.execute_input": "2024-03-08T17:23:22.162302Z",
     "iopub.status.busy": "2024-03-08T17:23:22.161861Z",
     "iopub.status.idle": "2024-03-08T17:23:23.490361Z",
     "shell.execute_reply": "2024-03-08T17:23:23.488938Z",
     "shell.execute_reply.started": "2024-03-08T17:23:22.162271Z"
    }
   },
   "outputs": [],
   "source": [
    "# BOXPLOT (ALL NUMERIC VARIABLES)\n",
    "\n",
    "# Draw\n",
    "fig, ax = plt.subplots(2, 5, figsize=(18,6))\n",
    "for var, subplot in zip(ds[numerical], ax.flatten()):\n",
    "    g = sns.boxplot(data=ds,\n",
    "                 x=var,\n",
    "                 ax=subplot)\n",
    "\n",
    "# Decoration\n",
    "sns.despine()\n",
    "plt.rc('axes', labelsize=subPlots_label_fontSize)\n",
    "fig.suptitle(\"Boxplots of all numeric variables\", fontsize=plots_Title_fontSize);\n",
    "\n",
    "# Save to file\n",
    "#fig.savefig(fname=exportsFolder+'MultipleBoxplots.svg', bbox_inches=\"tight\")"
   ]
  },
  {
   "cell_type": "code",
   "execution_count": null,
   "metadata": {
    "execution": {
     "iopub.status.busy": "2024-03-08T17:16:32.088001Z",
     "iopub.status.idle": "2024-03-08T17:16:32.088370Z",
     "shell.execute_reply": "2024-03-08T17:16:32.088204Z",
     "shell.execute_reply.started": "2024-03-08T17:16:32.088189Z"
    }
   },
   "outputs": [],
   "source": [
    "# One hot encoding of all categories above 15% - all others categories to \"Other\"\n",
    "cols = ['job', 'marital', 'education']\n",
    "for i in range(len(cols)):\n",
    "    colToProcess = X[cols[i]].astype(str)\n",
    "    procDF = one_hot(colToProcess, .15,cols[i]+'_')\n",
    "    X.drop(columns=cols[i], inplace=True)\n",
    "    X = pd.concat([X, procDF], axis=1)"
   ]
  },
  {
   "cell_type": "code",
   "execution_count": null,
   "metadata": {
    "execution": {
     "iopub.status.busy": "2024-03-08T17:16:32.089356Z",
     "iopub.status.idle": "2024-03-08T17:16:32.089759Z",
     "shell.execute_reply": "2024-03-08T17:16:32.089584Z",
     "shell.execute_reply.started": "2024-03-08T17:16:32.089568Z"
    }
   },
   "outputs": [],
   "source": [
    "# Get a copy of the dataframe before normalization for results' analysis\n",
    "X_beforeNorm = X.copy(deep=True)"
   ]
  },
  {
   "cell_type": "code",
   "execution_count": null,
   "metadata": {
    "execution": {
     "iopub.status.busy": "2024-03-08T17:16:32.090645Z",
     "iopub.status.idle": "2024-03-08T17:16:32.090999Z",
     "shell.execute_reply": "2024-03-08T17:16:32.090833Z",
     "shell.execute_reply.started": "2024-03-08T17:16:32.090818Z"
    }
   },
   "outputs": [],
   "source": [
    "# Normalize all columns\n",
    "# MinMax scaler returns an array, so the dataframe must be recreated\n",
    "X = pd.DataFrame(preprocessing.MinMaxScaler().fit_transform(X.values), columns=X.columns,index=X.index)"
   ]
  },
  {
   "cell_type": "code",
   "execution_count": null,
   "metadata": {
    "execution": {
     "iopub.status.busy": "2024-03-08T17:16:32.092598Z",
     "iopub.status.idle": "2024-03-08T17:16:32.093152Z",
     "shell.execute_reply": "2024-03-08T17:16:32.092890Z",
     "shell.execute_reply.started": "2024-03-08T17:16:32.092868Z"
    }
   },
   "outputs": [],
   "source": [
    "# Check dataframe structure and statistics after all transformations\n",
    "print(X.shape)\n",
    "X.describe(include='all').T"
   ]
  },
  {
   "cell_type": "markdown",
   "metadata": {},
   "source": [
    "- The results transformation made the modeling dataset end up with 29 columns.\n",
    "- All columns are now numeric, with values in the range of 0 to 1"
   ]
  },
  {
   "cell_type": "markdown",
   "metadata": {},
   "source": [
    "### Analyze Principal Components"
   ]
  },
  {
   "cell_type": "code",
   "execution_count": null,
   "metadata": {},
   "outputs": [],
   "source": [
    "# Let's use PCA to visualize with only two components\n",
    "pca2 = PCA(n_components = 2)\n",
    "pca2.fit(X)\n",
    "X_pca2 = pca2.transform(X)\n",
    "print(X_pca2.shape)\n",
    "\n",
    "# Scatter plot of the two Principal Components by the \"target\" to see if there is any pattern\n",
    "plt.scatter(X_pca2[:, 0], X_pca2[:, 1], c=X.y, edgecolor='none', alpha=0.5, cmap='viridis')\n",
    "plt.xlabel('Component 1')\n",
    "plt.ylabel('Component 2')\n",
    "plt.colorbar();"
   ]
  },
  {
   "cell_type": "markdown",
   "metadata": {},
   "source": [
    "The two main components visualization shows that there seems to exist three or six clusters. Three horizontal clusters, with some other separated clusters at the right."
   ]
  },
  {
   "cell_type": "code",
   "execution_count": null,
   "metadata": {},
   "outputs": [],
   "source": [
    "# Fit the PCA algorithm to data \n",
    "pca = PCA().fit(X)\n",
    "\n",
    "# Show the variance per component\n",
    "pcaevr = ['{:f}'.format(item) for item in pca.explained_variance_ratio_]\n",
    "pcaDF = pd.DataFrame({'Component': range(1, len(X.columns)+1),\n",
    "                      'Variance explained': pcaevr,\n",
    "                      'Cumulative variance explained': np.cumsum(pca.explained_variance_ratio_)})\n",
    "pcaDF"
   ]
  },
  {
   "cell_type": "code",
   "execution_count": null,
   "metadata": {},
   "outputs": [],
   "source": [
    "# Plot the cumulative explained variance\n",
    "\n",
    "# Draw\n",
    "fig , ax = plt.subplots(figsize=(5, 4))\n",
    "plt.plot(np.cumsum(pca.explained_variance_ratio_))\n",
    "\n",
    "# Decoration\n",
    "sns.despine()\n",
    "plt.xlabel('Number of components/dimensions')\n",
    "plt.ylabel('Variance explained')\n",
    "plt.rc('axes', labelsize=subPlots_label_fontSize)\n",
    "plt.title('Explained variance by components', fontsize=plots_Title_fontSize)"
   ]
  },
  {
   "cell_type": "markdown",
   "metadata": {},
   "source": [
    "With 15 components is possible to explain 96.5% of the variance."
   ]
  },
  {
   "cell_type": "markdown",
   "metadata": {},
   "source": [
    "## Modeling - K-Means - 15 Components\n",
    "For information about K-Means and other clustering algoritms available in Scikit-learn check https://scikit-learn.org/stable/modules/clustering.html"
   ]
  },
  {
   "cell_type": "code",
   "execution_count": null,
   "metadata": {},
   "outputs": [],
   "source": [
    "# Apply the dimension reduction to the dataset (for 15 components)\n",
    "pca_reduced = PCA(n_components = 15)\n",
    "pca_reduced.fit(X)\n",
    "X_pca_reduced = pca_reduced.transform(X) \n",
    "print(X_pca_reduced.shape)"
   ]
  },
  {
   "cell_type": "code",
   "execution_count": null,
   "metadata": {},
   "outputs": [],
   "source": [
    "# Apply the Elbow method to select K\n",
    "km = KMeans()\n",
    "visualizer = KElbowVisualizer(km, k=(1,20), random_state=123)\n",
    "visualizer.fit(X_pca_reduced)\n",
    "visualizer.show() "
   ]
  },
  {
   "cell_type": "code",
   "execution_count": null,
   "metadata": {},
   "outputs": [],
   "source": [
    "# Select K based on the Silhouette method\n",
    "# ATTENTION! Depending on the computer this can take long time to run (more than 10 minutes)\n",
    "sil = []\n",
    "\n",
    "# Dissimilarity can only be measured in more than 1 partition, therefore it starts on K=2\n",
    "for k in range(2, 20):\n",
    "  km = KMeans(n_clusters = k, random_state=123).fit(X)\n",
    "  labels = km.labels_\n",
    "  sil.append(silhouette_score(X, labels, metric = 'euclidean'))\n",
    "\n",
    "\n",
    "# Show Results\n",
    "# Draw\n",
    "fig , ax = plt.subplots(figsize=(5, 4))\n",
    "plt.plot(range(2, 20), sil, 'bx-')\n",
    "# Decoration\n",
    "sns.despine()\n",
    "fmt = \"{x:,.2f}\"\n",
    "tick = ticker.StrMethodFormatter(fmt)\n",
    "ax.yaxis.set_major_formatter(tick)\n",
    "plt.xlabel('K')\n",
    "plt.ylabel('Silhouette score')\n",
    "plt.rc('axes', labelsize=subPlots_label_fontSize)\n",
    "ax.xaxis.set_major_locator(ticker.MaxNLocator(integer=True))\n",
    "plt.title('Silhouette method - Reduced dimensionality', fontsize=plots_Title_fontSize);"
   ]
  },
  {
   "cell_type": "markdown",
   "metadata": {},
   "source": [
    "The Elbow method indicates K should be 6, but the Silhouette method points to higher values such 17. However, since large number of clusters are not very helpful for marketing pruposes, let's select K as 6"
   ]
  },
  {
   "cell_type": "code",
   "execution_count": null,
   "metadata": {},
   "outputs": [],
   "source": [
    "# Apply the K-Means for K=6\n",
    "K=6\n",
    "kmeans = KMeans(n_clusters=K, random_state=123)\n",
    "allDistances = kmeans.fit_transform(X_pca_reduced)\n",
    "y_kmeans = kmeans.predict(X_pca_reduced)"
   ]
  },
  {
   "cell_type": "code",
   "execution_count": null,
   "metadata": {},
   "outputs": [],
   "source": [
    "# Visualize Silhouette - see https://www.scikit-yb.org/en/latest/api/cluster/silhouette.html\n",
    "visualizer = SilhouetteVisualizer(kmeans, colors='yellowbrick')\n",
    "visualizer.fit(X_pca_reduced)\n",
    "visualizer.show()"
   ]
  },
  {
   "cell_type": "code",
   "execution_count": null,
   "metadata": {},
   "outputs": [],
   "source": [
    "# Plot clusters cardinality \n",
    "\n",
    "# Count observations per cluster\n",
    "freqByCluster = X_beforeNorm.groupby(y_kmeans).size()\n",
    "\n",
    "# Draw\n",
    "fig, ax = plt.subplots(figsize=(7,5))\n",
    "g = sns.countplot(x=y_kmeans, color='grey')\n",
    "\n",
    "# Decoration\n",
    "fmt = \"{x:,.0f}\"\n",
    "tick = ticker.StrMethodFormatter(fmt)\n",
    "ax.yaxis.set_major_formatter(tick)\n",
    "for index,data in enumerate(freqByCluster):\n",
    "    plt.text(x=index-0.2 , y=data+50 , s=f\"{data}\" , fontdict=dict(fontsize=plots_barTexts_fontSize))\n",
    "sns.despine()\n",
    "plt.title(\"Cluster cardinality\", fontsize=plots_Title_fontSize)\n",
    "plt.xlabel(\"Cluster\")\n",
    "plt.ylabel(\"Frequency in cluster\")\n",
    "plt.rc('axes', labelsize=subPlots_label_fontSize)"
   ]
  },
  {
   "cell_type": "code",
   "execution_count": null,
   "metadata": {},
   "outputs": [],
   "source": [
    "# Plot clusters magnitude\n",
    "\n",
    "# Compute Magnitude\n",
    "X['distanceToCentroid'] = np.min(allDistances,axis=1)\n",
    "magnitude = X['distanceToCentroid'].groupby(y_kmeans).sum()\n",
    "X = X.drop(columns=['distanceToCentroid'])\n",
    "\n",
    "# Draw\n",
    "fig, ax = plt.subplots(figsize=(7,5))\n",
    "g = sns.barplot(x=magnitude.index, y=magnitude.values, color='grey')\n",
    "\n",
    "# Decoration\n",
    "fmt = \"{x:,.0f}\"\n",
    "tick = ticker.StrMethodFormatter(fmt)\n",
    "ax.yaxis.set_major_formatter(tick)\n",
    "for index,data in enumerate(magnitude):\n",
    "    plt.text(x=index-0.2 , y=data+50 , s=f\"{data:,.0f}\" , fontdict=dict(fontsize=plots_barTexts_fontSize))\n",
    "sns.despine()\n",
    "plt.title(\"Cluster magnitude\", fontsize=plots_Title_fontSize)\n",
    "plt.xlabel(\"Cluster\")\n",
    "plt.ylabel(\"Sum of distances to centroid\")\n",
    "plt.rc('axes', labelsize=subPlots_label_fontSize)"
   ]
  },
  {
   "cell_type": "code",
   "execution_count": null,
   "metadata": {},
   "outputs": [],
   "source": [
    "# Plot cardinality vs magnitude\n",
    "\n",
    "# Draw\n",
    "fig, ax = plt.subplots(figsize=(6,4))\n",
    "g = sns.regplot(x=freqByCluster, y=magnitude, scatter=True, seed=123,truncate=False, ci=None)\n",
    "\n",
    "# Decoration\n",
    "fmt = \"{x:,.0f}\"\n",
    "tick = ticker.StrMethodFormatter(fmt)\n",
    "ax.xaxis.set_major_formatter(tick)\n",
    "ax.yaxis.set_major_formatter(tick)\n",
    "sns.despine()\n",
    "plt.title(\"Cardinality vs Magnitude\", fontsize=plots_Title_fontSize)\n",
    "plt.xlabel(\"Cardinality\")\n",
    "plt.ylabel(\"Magnitude\")\n",
    "plt.rc('axes', labelsize=subPlots_label_fontSize)"
   ]
  },
  {
   "cell_type": "markdown",
   "metadata": {},
   "source": [
    "Cardinality is correlated to magnitude, therefore no major anomalies seems to exist in clusters."
   ]
  },
  {
   "cell_type": "code",
   "execution_count": null,
   "metadata": {},
   "outputs": [],
   "source": [
    "# Visualizing the clusters sizes and distances in 2D\n",
    "visualizer = InterclusterDistance(kmeans)\n",
    "visualizer.fit(X_pca_reduced)\n",
    "visualizer.show()"
   ]
  },
  {
   "cell_type": "markdown",
   "metadata": {},
   "source": [
    "Circles represent the clusters (0 to 5). Even at two dimensions it is possible to see that although the two components only represent around 26% of the variance, some distance between clusters seems to exist."
   ]
  },
  {
   "cell_type": "code",
   "execution_count": null,
   "metadata": {},
   "outputs": [],
   "source": [
    "# Create a dataframe with the weights per component\n",
    "wheightsDF = pd.DataFrame(pca.components_,columns=X.columns)\n",
    "wheightsDF"
   ]
  },
  {
   "cell_type": "code",
   "execution_count": null,
   "metadata": {},
   "outputs": [],
   "source": [
    "# Study the weights of component 15\n",
    "comp = abs(wheightsDF.iloc[14])  ## index 14 is component 15\n",
    "comp = comp.sort_values(ascending=False)\n",
    "comp"
   ]
  },
  {
   "cell_type": "markdown",
   "metadata": {},
   "source": [
    "### Interpret clusters results\n"
   ]
  },
  {
   "cell_type": "code",
   "execution_count": null,
   "metadata": {},
   "outputs": [],
   "source": [
    "# Check the mean values of each cluster for top 30 relevant features\n",
    "top_features = comp[:30].index\n",
    "clustersMeanDF = pd.DataFrame(X_beforeNorm[top_features].groupby(y_kmeans).mean(),columns=top_features)\n",
    "clustersMeanDF.transpose()"
   ]
  },
  {
   "cell_type": "markdown",
   "metadata": {},
   "source": [
    "#### Some insights:\n",
    "\n",
    "**Cluster 0**: Less educated, with family, and lower income\n",
    "* Less educated customers (no high-school or university degree)\n",
    "* Blue-collar, technicians, and other jobs\n",
    "* 98% do not own a house\n",
    "* Customers above the 30 years old, being the second group with oldest Customers\n",
    "* 67% are married\n",
    "\n",
    "**Cluster 1**: Less educated, with family, with higher income\n",
    "* Less educated customers (no high-school or university degree)\n",
    "* Blue-collar, technicians, and other jobs\n",
    "* 97% own a house\n",
    "* Customers above the 30 years old, being the first group with oldest Customers\n",
    "* 64% are married\n",
    "* More likely to have a loan than customers of cluster 0 (probably for the house)\n",
    "\n",
    "**Cluster 2**: Better educated, but not owning a house\n",
    "* Customers from 20-59, but with almost half having 30-39 years hold\n",
    "* Have an high-school diploma or a university degree\n",
    "* Do not own a house\n",
    "* 50% are married\n",
    "* More than 40 have administrative jobs\n",
    "* Second cluster more propensive to direct markeitng\n",
    "\n",
    "**Cluster 3**: Direct marketing sceptics\n",
    "* Majority of the customers above 40 years old\n",
    "* Less likely to subscribe\n",
    "* No record of default\n",
    "* 80% are married\n",
    "* Different levels of education\n",
    "\n",
    "**Cluster 4**: Younger customers with some acquisitive power\n",
    "* Majority of customers below 50 years old, with 20% having less than 30 years old\n",
    "* Customers without a university degree\n",
    "* 96% own a house\n",
    "* No record of default\n",
    "* Have administrative or other jobs\n",
    "* Half are married\n",
    "\n",
    "**Cluster 5**: Customers with high acquisitive power \n",
    "* First cluster more propensive to direct marketing\n",
    "* 70% of the customers have between 30 and 49 years old\n",
    "* All have a university degree\n",
    "* Most likely to have an administrative or a technician job\n",
    "* Half are married\n",
    "* 96% own a house\n",
    "* No record of default"
   ]
  },
  {
   "cell_type": "markdown",
   "metadata": {},
   "source": [
    "### **EXERCISE 1**\n",
    "Based on previous findings what products could the bank market to different clusters?"
   ]
  },
  {
   "cell_type": "markdown",
   "metadata": {},
   "source": [
    "### **EXERCISE 2**\n",
    "Save this notebook with another name. Then, open that copy and redo the customer segmentation without the PCA dimension reduction techniques. Delete and adapt all the necessary code. After, compare the two notebooks to see the differences."
   ]
  }
 ],
 "metadata": {
  "interpreter": {
   "hash": "63338cfbd7cefcf7831943fc376709a132ac9d6ab811e65cbbb64a8a4fd355d8"
  },
  "kaggle": {
   "accelerator": "none",
   "dataSources": [
    {
     "datasetId": 4563124,
     "sourceId": 7794563,
     "sourceType": "datasetVersion"
    }
   ],
   "dockerImageVersionId": 30664,
   "isGpuEnabled": false,
   "isInternetEnabled": false,
   "language": "python",
   "sourceType": "notebook"
  },
  "kernelspec": {
   "display_name": "Python 3 (ipykernel)",
   "language": "python",
   "name": "python3"
  },
  "language_info": {
   "codemirror_mode": {
    "name": "ipython",
    "version": 3
   },
   "file_extension": ".py",
   "mimetype": "text/x-python",
   "name": "python",
   "nbconvert_exporter": "python",
   "pygments_lexer": "ipython3",
   "version": "3.11.5"
  }
 },
 "nbformat": 4,
 "nbformat_minor": 4
}
